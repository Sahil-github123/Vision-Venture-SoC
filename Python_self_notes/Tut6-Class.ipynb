{
 "cells": [
  {
   "cell_type": "code",
   "execution_count": 1,
   "metadata": {},
   "outputs": [
    {
     "name": "stdout",
     "output_type": "stream",
     "text": [
      "some value\n",
      "func1 executed\n"
     ]
    }
   ],
   "source": [
    "class NewTypeOfClass :\n",
    "    def newMethod(self) :\n",
    "        print('func1 executed')\n",
    "\n",
    "NewObject = NewTypeOfClass()        # New object is created of the class.\n",
    "Object2 = NewTypeOfClass()          # Each object is a diff instance of the class.\n",
    "\n",
    "NewObject.newAttribute = 'some value'\n",
    "\n",
    "print(NewObject.newAttribute)\n",
    "NewObject.newMethod()\n"
   ]
  },
  {
   "cell_type": "code",
   "execution_count": 2,
   "metadata": {},
   "outputs": [
    {
     "name": "stdout",
     "output_type": "stream",
     "text": [
      "Hi Hi Hi Hi Hi Hi Hi Hi Hi Hi \n"
     ]
    }
   ],
   "source": [
    "class c1 :\n",
    "    # Gets called whenever we create a new object of this class.\n",
    "    def __init__(self, X, Y) :        # Initialize = Constructor\n",
    "        self.x = X                    # self = refers to the current object, and (x,y = object attributes)\n",
    "        self.y = Y\n",
    "\n",
    "obj2 = c1(10, 'Hi ')\n",
    "print(obj2.y * obj2.x)\n"
   ]
  },
  {
   "cell_type": "code",
   "execution_count": 6,
   "metadata": {},
   "outputs": [
    {
     "name": "stdout",
     "output_type": "stream",
     "text": [
      "walking\n",
      "10\n"
     ]
    }
   ],
   "source": [
    "class mammal :              # Parent class/Base class\n",
    "    def walk(self) :\n",
    "        print('walking')\n",
    "    var3 = 10\n",
    "\n",
    "# Inheritance allows us to define a class that inherits all the methods and properties from another class.\n",
    "\n",
    "class dog(mammal) :         # Child class/Derived class\n",
    "    pass\n",
    "\n",
    "bob = dog()\n",
    "bob.walk()\n",
    "print(bob.var3)"
   ]
  }
 ],
 "metadata": {
  "kernelspec": {
   "display_name": "Python 3",
   "language": "python",
   "name": "python3"
  },
  "language_info": {
   "codemirror_mode": {
    "name": "ipython",
    "version": 3
   },
   "file_extension": ".py",
   "mimetype": "text/x-python",
   "name": "python",
   "nbconvert_exporter": "python",
   "pygments_lexer": "ipython3",
   "version": "3.12.2"
  }
 },
 "nbformat": 4,
 "nbformat_minor": 2
}
