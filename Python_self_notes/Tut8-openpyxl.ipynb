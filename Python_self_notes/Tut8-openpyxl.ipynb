{
 "cells": [
  {
   "cell_type": "code",
   "execution_count": 10,
   "metadata": {},
   "outputs": [
    {
     "name": "stdout",
     "output_type": "stream",
     "text": [
      "Actual weight \t\t FSR readings\n",
      "59 22\n"
     ]
    }
   ],
   "source": [
    "import openpyxl as xl\n",
    "\n",
    "wb = xl.load_workbook('FSR_trail1.xlsx')\n",
    "sheet = wb['Sheet1']\n",
    "\n",
    "cell1 = sheet['B48']            # 'ColumnRow'       #method1\n",
    "cell2 = sheet.cell(48, 3)       # (Row, Column)     #method2\n",
    "\n",
    "print(cell1.value, '\\t\\t' , cell2.value)\n",
    "\n",
    "print(sheet.max_row, sheet.max_column)"
   ]
  },
  {
   "cell_type": "code",
   "execution_count": 18,
   "metadata": {},
   "outputs": [
    {
     "name": "stdout",
     "output_type": "stream",
     "text": [
      "Actual weight \t\t FSR readings\n",
      "6.04 \t\t 65\n",
      "22.26 \t\t 144\n",
      "27.31 \t\t 179\n",
      "42.09 \t\t 216\n",
      "51.74 \t\t 267\n",
      "62.77 \t\t 276\n",
      "72.72 \t\t 292\n",
      "82.01 \t\t 295\n",
      "89.35 \t\t 301\n",
      "103.38 \t\t 305\n",
      "117.77 \t\t 309\n"
     ]
    }
   ],
   "source": [
    "sheet2 = wb['Sheet2']\n",
    "\n",
    "for row in range(1, sheet2.max_row + 1) :\n",
    "    actualW = sheet2.cell(row, 1)\n",
    "    fsr = sheet2.cell(row, 2)\n",
    "\n",
    "    print(actualW.value, '\\t\\t' , fsr.value)\n",
    "\n",
    "\n"
   ]
  },
  {
   "cell_type": "code",
   "execution_count": 75,
   "metadata": {},
   "outputs": [
    {
     "name": "stdout",
     "output_type": "stream",
     "text": [
      "6.04 \t\t 6.97789748400463\n",
      "22.26 \t\t 16.605795216257395\n",
      "27.31 \t\t 24.38254435606798\n",
      "42.09 \t\t 36.59577106000377\n",
      "51.74 \t\t 64.04872947448376\n",
      "62.77 \t\t 70.69796647902906\n",
      "72.72 \t\t 84.26887463250124\n",
      "82.01 \t\t 87.08953970683736\n",
      "89.35 \t\t 93.01727173788085\n",
      "103.38 \t\t 97.19158512341448\n",
      "117.77 \t\t 101.55322815122949\n"
     ]
    }
   ],
   "source": [
    "import openpyxl as xl\n",
    "from math import exp\n",
    "\n",
    "wb = xl.load_workbook('FSR_trail1.xlsx')\n",
    "sheet2 = wb['Sheet2']\n",
    "\n",
    "readings = sheet2.max_row - 1\n",
    "\n",
    "a = 95.43   #inverse\n",
    "b = 112.02    #direct             ##IMP##  a(logc(W)) - b = fsr\n",
    "c = 2.85\n",
    "\n",
    "# FSR = 95.43 * log_2.85(x) + -112.02\n",
    "# fsr = 91.051ln(x) - 112.02\n",
    "\n",
    "for row in range(2, sheet2.max_row + 1) :\n",
    "    actualW = sheet2.cell(row, 1)\n",
    "    fsr = sheet2.cell(row, 2)\n",
    "\n",
    "    # newW = exp((fsr.value + b) / a)\n",
    "    newW = pow(c, (fsr.value + b) / a)\n",
    "\n",
    "    print(actualW.value, '\\t\\t' , newW)\n"
   ]
  },
  {
   "cell_type": "code",
   "execution_count": 74,
   "metadata": {},
   "outputs": [
    {
     "data": {
      "image/png": "[encoded data removed]",
      "text/plain": [
       "<Figure size 640x480 with 1 Axes>"
      ]
     },
     "metadata": {},
     "output_type": "display_data"
    },
    {
     "name": "stdout",
     "output_type": "stream",
     "text": [
      "Fitted equation: y = 95.43 * log_2.85(x) + -112.02\n"
     ]
    }
   ],
   "source": [
    "import numpy as np\n",
    "import pandas as pd\n",
    "import matplotlib.pyplot as plt\n",
    "from scipy.optimize import curve_fit\n",
    "\n",
    "# Define the model function for a*log_c(x) + b\n",
    "def model_func(x, a, b, c):\n",
    "    return a * np.log(x) / np.log(c) + b\n",
    "\n",
    "# Load data from Excel file\n",
    "file_path = 'fsr-fitting.xlsx'  # Replace with your Excel file path\n",
    "data = pd.read_excel(file_path)\n",
    "\n",
    "# Assuming data is in the first two columns\n",
    "x_data = data.iloc[:, 0].to_numpy()\n",
    "y_data = data.iloc[:, 1].to_numpy()\n",
    "\n",
    "# Perform the curve fit\n",
    "# Initial guesses for a, b, c\n",
    "initial_guesses = [91.1, -112.02, 2.27]  # You might need to adjust these based on your data\n",
    "popt, pcov = curve_fit(model_func, x_data, y_data, p0=initial_guesses)\n",
    "\n",
    "# Extract the fitting parameters\n",
    "a, b, c = popt\n",
    "\n",
    "# Plot the data and the fitted curve\n",
    "plt.scatter(x_data, y_data, label='Data')\n",
    "x_fit = np.linspace(min(x_data), max(x_data), 100)\n",
    "y_fit = model_func(x_fit, a, b, c)\n",
    "plt.plot(x_fit, y_fit, label='Fitted curve', color='red')\n",
    "plt.legend()\n",
    "plt.xlabel('X values')\n",
    "plt.ylabel('Y values')\n",
    "plt.title('Curve Fitting')\n",
    "plt.show()\n",
    "\n",
    "print(f\"Fitted equation: y = {a:.2f} * log_{c:.2f}(x) + {b:.2f}\")\n"
   ]
  }
 ],
 "metadata": {
  "kernelspec": {
   "display_name": "Python 3",
   "language": "python",
   "name": "python3"
  },
  "language_info": {
   "codemirror_mode": {
    "name": "ipython",
    "version": 3
   },
   "file_extension": ".py",
   "mimetype": "text/x-python",
   "name": "python",
   "nbconvert_exporter": "python",
   "pygments_lexer": "ipython3",
   "version": "3.12.2"
  }
 },
 "nbformat": 4,
 "nbformat_minor": 2
}
