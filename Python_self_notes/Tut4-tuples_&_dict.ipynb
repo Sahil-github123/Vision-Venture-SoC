{
 "cells": [
  {
   "cell_type": "markdown",
   "metadata": {},
   "source": [
    "Tuple :\n",
    "Cannot be modified (Immutable)"
   ]
  },
  {
   "cell_type": "code",
   "execution_count": 24,
   "metadata": {},
   "outputs": [
    {
     "name": "stdout",
     "output_type": "stream",
     "text": [
      "(1, 2, 'dad', True, 'dad')\n",
      "2\n",
      "2\n",
      "1 2 24 abc 2\n"
     ]
    }
   ],
   "source": [
    "tuple1 = (1, 2, 'dad', True, 'dad')\n",
    "list1 = [\"abc\", 2, 24]\n",
    "\n",
    "print(tuple1)                                   # Tuple has only 2 methods.\n",
    "print(tuple1.count('dad'))\n",
    "print(tuple1.index('dad'))\n",
    "\n",
    "x, y, z, v, w = tuple1                    # Unpacking a Tuple       # No. of variables defined = no. of elements in tuple.\n",
    "a, b, z = list1                           # Unpacking a List\n",
    "print(x, y, z, a, b)\n",
    "\n",
    "# magic methods = methods starting with double underscores = eg. __method__"
   ]
  },
  {
   "cell_type": "markdown",
   "metadata": {},
   "source": [
    "Dictionary in python : we can store a bunch of key value pairs\n",
    "\n",
    "Each key should be unique in a dictionary."
   ]
  },
  {
   "cell_type": "code",
   "execution_count": 25,
   "metadata": {},
   "outputs": [
    {
     "name": "stdout",
     "output_type": "stream",
     "text": [
      "{'key1': 'value1', 'age': 24, 25: 56, 'key3': True, 'key4': [1, 2]}\n",
      "True\n",
      "56\n",
      "None\n",
      "we can put some default value\n",
      "{'key1': 'value1', 'age': '30', 25: 56, 'key3': True, 'key4': [1, 2], 'key2': 'value2'}\n"
     ]
    }
   ],
   "source": [
    "dict1 = {}\n",
    "\n",
    "var = 25\n",
    "dict2 = {\n",
    "    'key1' : 'value1',\n",
    "    \"age\" : 24,\n",
    "    var : 56,\n",
    "    \"key3\" : True,\n",
    "    'key4' : [1, 2]\n",
    "}\n",
    "\n",
    "print(dict2)\n",
    "print(dict2['key3'])\n",
    "print(dict2[var])\n",
    "# print(dict2['Key1'])                                                  # KeyError, as the key doesn't exist in the dictionary\n",
    "\n",
    "print(dict2.get('any_key'))                                             # Keypair doesn't exist, thus returns 'None'    \n",
    "print(dict2.get('again_key', 'we can put some default value'))          # Benefit of using the get method, as we can set a default valve if key isn't found.\n",
    "\n",
    "dict2['age'] = '30'                                             # updating a keyvalue\n",
    "dict2['key2'] = 'value2'                                        # adding a keyvalue\n",
    "print(dict2)\n",
    "\n"
   ]
  },
  {
   "cell_type": "code",
   "execution_count": 27,
   "metadata": {},
   "outputs": [
    {
     "name": "stdout",
     "output_type": "stream",
     "text": [
      "one two three 6 \n"
     ]
    }
   ],
   "source": [
    "# phone_no = input('Enter your phone number: ')\n",
    "phone_no = '1236'\n",
    "\n",
    "digit_mapping = {\n",
    "    '1': 'one',\n",
    "    '2': 'two',\n",
    "    '3': 'three',\n",
    "    '4': 'four',\n",
    "    '5': 'five',\n",
    "}\n",
    "\n",
    "output = ''\n",
    "for d in phone_no :\n",
    "    output += digit_mapping.get(d, d) + ' '             ## checks if u have a key in the dictionary, if not, it returns the key itself.\n",
    "\n",
    "print(output)"
   ]
  }
 ],
 "metadata": {
  "kernelspec": {
   "display_name": "Python 3",
   "language": "python",
   "name": "python3"
  },
  "language_info": {
   "codemirror_mode": {
    "name": "ipython",
    "version": 3
   },
   "file_extension": ".py",
   "mimetype": "text/x-python",
   "name": "python",
   "nbconvert_exporter": "python",
   "pygments_lexer": "ipython3",
   "version": "3.12.2"
  }
 },
 "nbformat": 4,
 "nbformat_minor": 2
}
