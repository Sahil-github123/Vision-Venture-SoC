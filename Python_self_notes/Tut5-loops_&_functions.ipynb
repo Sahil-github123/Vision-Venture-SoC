{
 "cells": [
  {
   "cell_type": "code",
   "execution_count": 35,
   "metadata": {},
   "outputs": [
    {
     "name": "stdout",
     "output_type": "stream",
     "text": [
      "both T\n",
      "inside while\n",
      "s\to\tm\te\t_\tS\tt\tr\ti\tn\tg\t"
     ]
    }
   ],
   "source": [
    "bool_a = 1\n",
    "bool_b = False\n",
    "\n",
    "if bool_a and not bool_b :\n",
    "    print(\"both T\")\n",
    "elif False :\n",
    "    pass\n",
    "else :\n",
    "    pass\n",
    "\n",
    "i = 1\n",
    "while i :\n",
    "    print('inside while')\n",
    "    i = not i                            # makes alternate 1/0\n",
    "else :                                  ## Always executes unless the while loop is broken by a break statement. \n",
    "    pass                                ## In python, else exists for while loop also.\n",
    "\n",
    "\n",
    "for loop_var in 'some_String' :\n",
    "    print(loop_var , end = '\\t')\n",
    "for i in [1, 2, 'sahil', i] :            # both i are diff.\n",
    "    pass\n",
    "for a in range(10) :                     # [0 to 9]  ==  (10 numbers starting from 0)\n",
    "    for b in range(1, 10) :              # [1 to 9]  ==  (excluding the end no.)\n",
    "        for c in range(1, 10, 2) :       # [1, 3, 5, 7, 9]\n",
    "            pass\n",
    "\n",
    "\n",
    "\n",
    "\n"
   ]
  },
  {
   "cell_type": "code",
   "execution_count": 45,
   "metadata": {},
   "outputs": [
    {
     "name": "stdout",
     "output_type": "stream",
     "text": [
      "argument\n",
      "sahil\n",
      "sahil\n",
      "vada pav\n"
     ]
    },
    {
     "data": {
      "text/plain": [
       "'some_value'"
      ]
     },
     "execution_count": 45,
     "metadata": {},
     "output_type": "execute_result"
    }
   ],
   "source": [
    "def function_name(parameter_name) :     # parameters = placeholders that we define in our func for receiving values\n",
    "    var1 = parameter_name\n",
    "    print(var1)\n",
    "\n",
    "def func(p1, p2) :\n",
    "    print(f'{p1} {p2}')\n",
    "def func2(p1, p2, p3, p4) :\n",
    "    pass\n",
    "\n",
    "# positional arguments = position or order matters(sync betn parameters and arguments)\n",
    "argument_name = 'sahil'\n",
    "function_name(\"argument\")   # or        # argument = value that we send to the func.\n",
    "function_name(argument_name)    # or\n",
    "\n",
    "\n",
    "# keyword arguments = order of parameters doesn't matter\n",
    "# We prefix the argument with it's parameter name.\n",
    "# When we want to increase the readability of our code, we can use keyword arguments. \n",
    "function_name(parameter_name = 'sahil')\n",
    "func(p2 = 'pav', p1 = 'vada')\n",
    "func2(1,2, p3 = 'pav', p4 = 'vada')  # keyword arg can be passed after positional arg, but not vice versa.\n",
    "\n",
    "\n",
    "def func1() :\n",
    "    var1 = 'some_value'\n",
    "    return var1         # return value is printed in the console of NB.\n",
    "func1()\n",
    "\n"
   ]
  }
 ],
 "metadata": {
  "kernelspec": {
   "display_name": "Python 3",
   "language": "python",
   "name": "python3"
  },
  "language_info": {
   "codemirror_mode": {
    "name": "ipython",
    "version": 3
   },
   "file_extension": ".py",
   "mimetype": "text/x-python",
   "name": "python",
   "nbconvert_exporter": "python",
   "pygments_lexer": "ipython3",
   "version": "3.12.2"
  }
 },
 "nbformat": 4,
 "nbformat_minor": 2
}
