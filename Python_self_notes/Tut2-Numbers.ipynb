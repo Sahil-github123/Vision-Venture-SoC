{
 "cells": [
  {
   "cell_type": "markdown",
   "metadata": {},
   "source": [
    "# comment\n",
    "Since Python will ignore string literals that are not assigned to a variable, you can add a multiline string (triple quotes) in your code, and place your multiline comment inside it. ('''  ''' or \"\"\"  \"\"\")                   <br>\n",
    "'''_______________comments of multiple lines__________________'''                          <br><br>\n",
    "print(message or output)                                                                   <p>\n",
    "\n",
    "Numerical data(Numbers) -- Integers=Whole nos. and floats=decimal nos.=Floating point nos.  <br>\n",
    "π - type pi using Alt+227                                                   <br>\n",
    "int, float, str,  are classes -->  Check it again!                          <p>\n",
    "\n",
    "Arithmetic operators : +  -  *  /  //  **  %  abs(x)  j  round(x,y)         <br>\n",
    "Assignment operators : =                                                    <br>\n",
    "Augmented Assignment operators : +=  -=  *=  /=  //=  **=  %=               <br>\n",
    "Comparison operators : ==  !=  <  >  <=  >=                                 <br>\n",
    "Logical Operators: and or not                                               <br>"
   ]
  },
  {
   "cell_type": "code",
   "execution_count": 10,
   "metadata": {},
   "outputs": [
    {
     "name": "stdout",
     "output_type": "stream",
     "text": [
      "<class 'int'>\n",
      "<class 'float'>\n",
      "<class 'str'>\n",
      "<class 'dict'>\n",
      "<class 'list'>\n",
      "<class 'tuple'>\n",
      "\n",
      "24\n",
      "2.6666666666666665\n",
      "2\n",
      "512\n",
      "2\n",
      "25.0\n"
     ]
    }
   ],
   "source": [
    "num = 37\n",
    "num2 = 3.14\n",
    "num3 = 'π'\n",
    "num4 = {}\n",
    "num5 = []\n",
    "num6 = ()\n",
    "\n",
    "# Type function\n",
    "\n",
    "print(type(num))\n",
    "print(type(num2))\n",
    "print(type(num3))\n",
    "print(type(num4))       # print(help(dict))\n",
    "print(type(num5))       # print(help(list))\n",
    "print(type(num6))       # print(help(tuple))\n",
    "\n",
    "print()\n",
    "\n",
    "print(8*3)\n",
    "print(8/3)              # Division\n",
    "print(8 // 3)           # GIF of quotient (Floor division)\n",
    "print(8**3)             # Exponent\n",
    "print(8 % 3)            # Modulus (mod) (Remainder)\n",
    "print(100/5*5/2/2)\n"
   ]
  },
  {
   "cell_type": "code",
   "execution_count": 11,
   "metadata": {},
   "outputs": [
    {
     "name": "stdout",
     "output_type": "stream",
     "text": [
      "-5.711935660756717\n",
      "5.711935660756717\n",
      "13.0\n",
      "\n",
      "6\n",
      "-6\n",
      "5.712\n",
      "6.84\n",
      "False\n",
      "True\n"
     ]
    }
   ],
   "source": [
    "i = 23\n",
    "i = i+1                     # Incrementing i, but better way is,\n",
    "i += 1                     ## (i o= y)    ==     (i = i o y)     ,where o = +-*/ and y = any number and i is any var having nunber data in it.\n",
    "i /= 4.3768                 # example\n",
    "a= 12+5j                   ## Complex no., where (iota = j)\n",
    "\n",
    "print(-i)\n",
    "print(abs(-i))              # abs = absolute value function\n",
    "print(abs(a))               # gives the absolute(magnitude) of the complex no.\n",
    "\n",
    "print()\n",
    "\n",
    "print(round(i))             # round = round of(nearest integer) function\n",
    "print(round(-i))\n",
    "# print(round(a))           # Error: type complex doesn't define __round__ method\n",
    "print(round(i, 3))          # Round upto the 3rd decimal place.\n",
    "print(round(6.845, 2))      # works, 5LikesEven\n",
    "\n",
    "print(i == a)\n",
    "print(i < abs(a))             # comparing real with magnitude of complex\n",
    "# print(len(i == a))          # Error: object of type 'bool' has no len()\n"
   ]
  },
  {
   "cell_type": "code",
   "execution_count": 12,
   "metadata": {},
   "outputs": [
    {
     "name": "stdout",
     "output_type": "stream",
     "text": [
      "127\n",
      "37\n",
      "\n",
      "3.141592653589793\n",
      "3\n",
      "3\n"
     ]
    }
   ],
   "source": [
    "# Casting : converting a string into integer\n",
    "print(int('127'))             # Casting of string into int\n",
    "print(int(num))               # casting of int(RealNo.) = no change, cannot take complex no.\n",
    "# print(int(num3))             # π is not recognized in py as a no. '''\n",
    "\n",
    "print()\n",
    "\n",
    "# math module in python :\n",
    "import math\n",
    "\n",
    "print(math.pi)\n",
    "print(math.ceil(2.1))\n",
    "print(math.floor(3.9))"
   ]
  }
 ],
 "metadata": {
  "kernelspec": {
   "display_name": "Python 3",
   "language": "python",
   "name": "python3"
  },
  "language_info": {
   "codemirror_mode": {
    "name": "ipython",
    "version": 3
   },
   "file_extension": ".py",
   "mimetype": "text/x-python",
   "name": "python",
   "nbconvert_exporter": "python",
   "pygments_lexer": "ipython3",
   "version": "3.12.2"
  }
 },
 "nbformat": 4,
 "nbformat_minor": 2
}
