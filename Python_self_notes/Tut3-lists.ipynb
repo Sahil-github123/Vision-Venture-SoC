{
 "cells": [
  {
   "cell_type": "markdown",
   "metadata": {},
   "source": [
    "Tuple, Lists  --  Sequential data\n",
    "Sets  --  Unordered collection of values with no duplicates\n",
    "Lists : list of values\n",
    "\n",
    "list1.append(data)\n",
    "list1.extend(datas)\n",
    "list1.insert(location, data)\n",
    "list1.index(element)\n",
    "list1.count(element)\n",
    "list1.copy()\n",
    "list1.sort()\n",
    "list1.reverse()\n",
    "list1.remove(element)\n",
    "list1.pop()\n",
    "list1.clear()"
   ]
  },
  {
   "cell_type": "code",
   "execution_count": null,
   "metadata": {},
   "outputs": [
    {
     "name": "stdout",
     "output_type": "stream",
     "text": [
      "['abc', 'abc', 'erc', 24]\n",
      "4\n",
      "abc\n",
      "24\n",
      "['abc', 'abc']\n",
      "\n",
      "<class 'list'>\n",
      "list[(-14+397j)]\n",
      "list[slice(None, 45, None)]\n",
      "list[slice(82, None, None)]\n"
     ]
    }
   ],
   "source": [
    "var1 = 'erc'\n",
    "list1 = ['abc', \"abc\", var1, 24]\n",
    "list2 = ['world', 776, 'sah']\n",
    "print(list1)\n",
    "print(len(list1))\n",
    "print(list1[0])                      # == print(list1[-4])\n",
    "#print(list1[4])\n",
    "print(list1[-1])                    ## Last value of our list can also indexed by (-1), and so on for the reverse counting.\n",
    "print(list1[:2])\n",
    "print()\n",
    "\n",
    "print(list)                         ## how does it work even when list is not defined, and even gives the value of list1 ??\n",
    "print(list[397j-14])\n",
    "print(list[:45])\n",
    "print(list[82:])\n",
    "\n"
   ]
  },
  {
   "cell_type": "code",
   "execution_count": null,
   "metadata": {},
   "outputs": [
    {
     "name": "stdout",
     "output_type": "stream",
     "text": [
      "['abc', 'abc', 'erc', 24, 'sahil']\n",
      "['abc', 'abc', 'erc', 'dd', 24, 'sahil', 'dad']\n",
      "['abc', 'abc', 'erc', 'dd', 'dad', 24, 'sahil', 'dad']\n",
      "['abc', 'abc', 'erc', 'dd', 'dad', 24, 'sahil', 'pop', 'dad']\n",
      "['abc', 'abc', 'erc', 'dd', 24, 'sahil', 'dad']\n",
      "['abc', 'abc', 'erc', 'dd', 24, 'sahil'] \n",
      "\n",
      "[['world', 776, 'sah'], 'abc', 'abc', 'erc', 'dd', 24, 'sahil']\n",
      "[['world', 776, 'sah'], 'abc', 'abc', 'erc', 'dd', 24, 'sahil', 'world', 776, 'sah']\n",
      "['abc', 'abc', 'erc', 'dd', 24, 'sahil', 'world', 776, 'sah']\n"
     ]
    }
   ],
   "source": [
    "list1.append('sahil')                       # Adds at the end of the list\n",
    "print(list1)\n",
    "\n",
    "list1.insert(3, 'dd')                      ## if index is positive, it is added right at that index of the list ;\n",
    "list1.insert(100, \"dad\")                   ## out of range in insert method makes it add at the last ;\n",
    "print(list1)\n",
    "list1.insert(-3, 'dad')                    ## if index is negative, it is added before the element present at that index of the list.\n",
    "print(list1)\n",
    "list1.insert(-1, 'pop')\n",
    "print(list1)\n",
    "\n",
    "list1.remove('pop')\n",
    "list1.remove('dad')                         # removes the first occurance of the element.\n",
    "print(list1)\n",
    "list1.remove('dad')\n",
    "print(list1, '\\n')\n",
    "\n",
    "\n",
    "list1.insert(0, list2)                      # Adds the list2 as an single element at the specified location ;\n",
    "print(list1)                   \n",
    "list1.extend(list2)                         # Adds the list1 to list2, by appending individual elements of list2 into list1.\n",
    "print(list1)\n",
    "list1.remove(list2)                   \n",
    "print(list1)\n"
   ]
  },
  {
   "cell_type": "code",
   "execution_count": null,
   "metadata": {},
   "outputs": [
    {
     "name": "stdout",
     "output_type": "stream",
     "text": [
      "sah\n",
      "['abc', 'abc', 'erc', 'dd', 24, 'sahil', 'world', 776] \n",
      "\n",
      "3\n",
      "True\n",
      "2\n",
      "\n",
      "[2, 2, 3, 22, 34, 55]\n",
      "[55, 34, 22, 3, 2, 2]\n",
      "[]\n"
     ]
    }
   ],
   "source": [
    "# removes the last element in the list, and also saves it too !!\n",
    "popped_off_data = list1.pop()\n",
    "print(popped_off_data)\n",
    "print(list1, '\\n')\n",
    "\n",
    "print(list1.index('dd'))                # Gives the index of an object in the list.\n",
    "print('dd' in list1)                    # Checks the existence of an object in the list.\n",
    "print(list1.count('abc'))               # Counts an object in the list.\n",
    "\n",
    "print()\n",
    "\n",
    "numberList = [22,3,2,55,34,2]\n",
    "# print(numberList.sort())                # Return nothing = None object.\n",
    "numberList.sort()                         # Sorts the list in ascending order.\n",
    "print(numberList)\n",
    "numberList.reverse()                      # Reverses the list.\n",
    "print(numberList)\n",
    "# numberList.sort().reverse()             # Cannot be done.\n",
    "\n",
    "list1_copy = list1.copy()                 # Makes a copy of the list, which will not change even if the original list is changed.\n",
    "\n",
    "list1.clear()               # All the elements of the list are removed.\n",
    "print(list1)\n"
   ]
  },
  {
   "cell_type": "code",
   "execution_count": null,
   "metadata": {},
   "outputs": [
    {
     "name": "stdout",
     "output_type": "stream",
     "text": [
      "[34, 776, ['abc', 'qwerty', 'erc', 24]]\n",
      "[[34, 776, [...]], 'abc', 'qwerty', 'erc', 24]\n",
      "[[1, 2, 333], [4, 5, 6], [7, 8, 9]]\n"
     ]
    }
   ],
   "source": [
    "list1 = ['abc', \"qwerty\", var1, 24]\n",
    "list2 = [34, 776, list1]                # lists in list.\n",
    "print(list2)\n",
    "\n",
    "list1.insert(0, list2)\n",
    "print(list1)                            # Recurrence\n",
    "\n",
    "matrix1 = [                             # 2D list = 2D matrix = Each element of the list is also a list.\n",
    "    [1, 2, 3],\n",
    "    [4, 5, 6],\n",
    "    [7, 8, 9]\n",
    "]\n",
    "matrix1[0][2] = 333\n",
    "print(matrix1)\n"
   ]
  },
  {
   "cell_type": "code",
   "execution_count": null,
   "metadata": {},
   "outputs": [
    {
     "name": "stdout",
     "output_type": "stream",
     "text": [
      "[2, 3, 4, 5, 6, 0, 'd', '']\n"
     ]
    }
   ],
   "source": [
    "# Exercise :- Remove all duplicates from a list\n",
    "numList = [2,2,3,4,5,5,5,6,0,2, 'd', '']\n",
    "soln_list = []\n",
    "for num in numList :\n",
    "    if num not in soln_list :\n",
    "        soln_list.append(num)\n",
    "print(soln_list)\n",
    "\n",
    "\n",
    "# numList.sort()                       # Sorting can only be done if all elements have same data type.\n",
    "# print(numList)"
   ]
  }
 ],
 "metadata": {
  "kernelspec": {
   "display_name": "Python 3",
   "language": "python",
   "name": "python3"
  },
  "language_info": {
   "codemirror_mode": {
    "name": "ipython",
    "version": 3
   },
   "file_extension": ".py",
   "mimetype": "text/x-python",
   "name": "python",
   "nbconvert_exporter": "python",
   "pygments_lexer": "ipython3",
   "version": "3.12.2"
  }
 },
 "nbformat": 4,
 "nbformat_minor": 2
}
