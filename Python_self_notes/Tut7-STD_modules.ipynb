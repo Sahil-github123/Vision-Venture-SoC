{
 "cells": [
  {
   "cell_type": "markdown",
   "metadata": {},
   "source": [
    "If you want to specify the data type of a variable, this can be done with casting. <br>\n",
    "String variables can be declared using both single as well as double quotes. <br>\n",
    "\n",
    "Variable names are case-sensitive. (well, we can use capital letters) <br>\n",
    "A variable name can start with the underscore character, but not with a number. <br>\n",
    "A variable name cannot be any of the Python keywords. (https://www.w3schools.com/python/python_ref_keywords.asp) <br>\n",
    "\n",
    "Python allows you to assign values to multiple variables in one line\n",
    "You can also assign the same value to multiple variables in one line\n",
    "\n",
    "Which method can be used to remove any whitespace from both the beginning and the end of a string? = strip()"
   ]
  },
  {
   "cell_type": "code",
   "execution_count": 3,
   "metadata": {},
   "outputs": [
    {
     "name": "stdout",
     "output_type": "stream",
     "text": [
      "3.12.2 (tags/v3.12.2:6abddd9, Feb  6 2024, 21:26:36) [MSC v.1937 64 bit (AMD64)]\n",
      "\n",
      "0.5348149439269907\n",
      "0.3237209953238882\n",
      "0.17162613130653526\n",
      "\n",
      "41\n",
      "18\n",
      "27\n"
     ]
    }
   ],
   "source": [
    "import sys\n",
    "\n",
    "print(sys.version)\n",
    "\n",
    "import random\n",
    "\n",
    "print()\n",
    "for i in range(3) :\n",
    "    print(random.random())\n",
    "\n",
    "print()\n",
    "for i in range(3) :\n",
    "    print(random.randint(10, 50))\n"
   ]
  },
  {
   "cell_type": "code",
   "execution_count": 4,
   "metadata": {},
   "outputs": [
    {
     "name": "stdout",
     "output_type": "stream",
     "text": [
      "(4, 6)\n"
     ]
    }
   ],
   "source": [
    "from random import choice as CC, randint as RR\n",
    "\n",
    "class Dice :\n",
    "    \n",
    "    dice = [1, 2, 3, 4, 5, 6]\n",
    "    def roll(self) :\n",
    "        return (CC(self.dice), CC(self.dice))       # returns tuple\n",
    "    \n",
    "    def roll_easy(self) :                   #simple way for the above task.\n",
    "        first = RR(1,6)\n",
    "        second = RR(1,6)\n",
    "        return first, second                        # While returning, if we dont put brackets, then python assumes it as Tuple..!!\n",
    "\n",
    "\n",
    "pairOfDice = Dice()\n",
    "print(pairOfDice.roll_easy())\n"
   ]
  },
  {
   "cell_type": "code",
   "execution_count": 5,
   "metadata": {},
   "outputs": [
    {
     "name": "stdout",
     "output_type": "stream",
     "text": [
      "True\n",
      "\n",
      "Tut-matplotlib.ipynb\n",
      "Tut1-strings.ipynb\n",
      "Tut2-Numbers.ipynb\n",
      "Tut3-lists.ipynb\n",
      "Tut4-tuples_&_dict.ipynb\n",
      "Tut5-loops_&_functions.ipynb\n",
      "Tut6-Class.ipynb\n",
      "Tut7-STD_modules.ipynb\n",
      "Tut8-openpyxl.ipynb\n",
      "Tut_pandas.ipynb\n"
     ]
    }
   ],
   "source": [
    "from pathlib import *\n",
    "\n",
    "path1 = Path('personal_utils')\n",
    "path2 = Path('Newfolder1')\n",
    "path0 = Path()\n",
    "\n",
    "print(path1.exists())\n",
    "# path2.rmdir()\n",
    "# path2.mkdir()\n",
    "\n",
    "print()\n",
    "for filess in path0.glob('*.ipynb') :               # Try--> '*', '*.*', 'specific_name'\n",
    "    print(filess)\n"
   ]
  }
 ],
 "metadata": {
  "kernelspec": {
   "display_name": "Python 3",
   "language": "python",
   "name": "python3"
  },
  "language_info": {
   "codemirror_mode": {
    "name": "ipython",
    "version": 3
   },
   "file_extension": ".py",
   "mimetype": "text/x-python",
   "name": "python",
   "nbconvert_exporter": "python",
   "pygments_lexer": "ipython3",
   "version": "3.12.2"
  }
 },
 "nbformat": 4,
 "nbformat_minor": 2
}
