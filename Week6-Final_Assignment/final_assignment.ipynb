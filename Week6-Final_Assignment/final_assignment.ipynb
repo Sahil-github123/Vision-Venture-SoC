{
 "cells": [
  {
   "cell_type": "code",
   "execution_count": 1,
   "metadata": {
    "id": "HFj8s-8RT3vs"
   },
   "outputs": [],
   "source": [
    "%matplotlib inline\n",
    "import numpy as np\n",
    "from numpy.fft import fft2, ifft2, fftshift, ifftshift\n",
    "from numpy import angle, real\n",
    "from numpy import exp, abs, pi, sqrt\n",
    "import matplotlib.pyplot as plt\n",
    "import cv2\n",
    "import scipy.ndimage as ndimage\n",
    "\n",
    "def imshow(im, cmap='gray'):\n",
    "    # clip image from 0-1\n",
    "    im = np.clip(im, 0, 1)\n",
    "    plt.imshow(im, cmap=cmap)\n"
   ]
  },
  {
   "cell_type": "code",
   "execution_count": 2,
   "metadata": {
    "id": "446yzZigT3vy"
   },
   "outputs": [
    {
     "name": "stderr",
     "output_type": "stream",
     "text": [
      "  % Total    % Received % Xferd  Average Speed   Time    Time     Time  Current\n",
      "                                 Dload  Upload   Total   Spent    Left  Speed\n",
      "\n",
      "  0     0    0     0    0     0      0      0 --:--:-- --:--:-- --:--:--     0\n",
      "  1  678k    1  8392    0     0   6914      0  0:01:40  0:00:01  0:01:39  6924\n",
      " 15  678k   15  104k    0     0  57347      0  0:00:12  0:00:01  0:00:11 57387\n",
      "100  678k  100  678k    0     0   290k      0  0:00:02  0:00:02 --:--:--  291k\n"
     ]
    }
   ],
   "source": [
    "! curl http://6.869.csail.mit.edu/sp21/pset3_data/bill.avi > bill.avi"
   ]
  },
  {
   "cell_type": "markdown",
   "metadata": {
    "id": "UlnuAmerT3v0"
   },
   "source": [
    "## Problem 1.a"
   ]
  },
  {
   "cell_type": "code",
   "execution_count": 3,
   "metadata": {
    "colab": {
     "base_uri": "https://localhost:8080/",
     "height": 383
    },
    "id": "KswSFrezT3v1",
    "outputId": "4321c034-6beb-4acc-a589-f02c6e2f81b2"
   },
   "outputs": [
    {
     "data": {
      "image/png": "[encoded data removed]",
      "text/plain": [
       "<Figure size 640x480 with 2 Axes>"
      ]
     },
     "metadata": {},
     "output_type": "display_data"
    },
    {
     "data": {
      "image/png": "[encoded data removed]",
      "text/plain": [
       "<Figure size 640x480 with 2 Axes>"
      ]
     },
     "metadata": {},
     "output_type": "display_data"
    }
   ],
   "source": [
    "# 9x9 images\n",
    "imSize = 9\n",
    "\n",
    "# we would like to magnify the change between im1 and im2 by 4x\n",
    "magnificationFactor = 4;\n",
    "\n",
    "# horizontal movement from (0, 0) to (0, 1)\n",
    "im1 = np.zeros([imSize, imSize])\n",
    "im2 = np.zeros([imSize, imSize])\n",
    "im1[0,0] = 1\n",
    "im2[0,1] = 1\n",
    "\n",
    "ff1 = fftshift(fft2(im1))\n",
    "ff2 = fftshift(fft2(im2))\n",
    "\n",
    "plt.figure()\n",
    "plt.subplot(121)\n",
    "imshow(im1)\n",
    "plt.subplot(122)\n",
    "imshow(im2)\n",
    "\n",
    "plt.figure()\n",
    "plt.subplot(121)\n",
    "imshow(angle(ff1))\n",
    "plt.subplot(122)\n",
    "imshow(angle(ff2))"
   ]
  },
  {
   "cell_type": "markdown",
   "metadata": {
    "id": "Q8wHgtdVT3v1"
   },
   "source": [
    "### Magnify Change\n"
   ]
  },
  {
   "cell_type": "code",
   "execution_count": 4,
   "metadata": {
    "id": "7VIdTa1hT3v1"
   },
   "outputs": [],
   "source": [
    "def magnifyChange(im1, im2, magnificationFactor):\n",
    "\n",
    "    # find phase shift in frequency domain\n",
    "    im1Dft = fft2(im1)\n",
    "    im2Dft = fft2(im2)\n",
    "    phaseShift =  np.angle(im2Dft) - np.angle(im1Dft)  # TODO\n",
    "\n",
    "    # magnify the phase change in frequency domain\n",
    "    magnifiedPhaseShift = phaseShift * magnificationFactor\n",
    "    magnifiedDft = np.abs(im1Dft) * np.exp(1j * (np.angle(im1Dft) + magnifiedPhaseShift)) # TODO\n",
    "\n",
    "    # what does the magnified phase change cause in image space?\n",
    "    magnified = ifft2(magnifiedDft).real;\n",
    "\n",
    "    return magnified"
   ]
  },
  {
   "cell_type": "markdown",
   "metadata": {
    "id": "bjFLRGEuT3v2"
   },
   "source": [
    "**HINT:** If you're not familiar with complex number in python, here's a quickstart."
   ]
  },
  {
   "cell_type": "code",
   "execution_count": 5,
   "metadata": {
    "id": "x7I3wGemT3v2"
   },
   "outputs": [
    {
     "name": "stdout",
     "output_type": "stream",
     "text": [
      "x = (1+1j)\n",
      "x.real 1.0 x.imag 1.0\n",
      "Magnitude 1.4142135623730951\n",
      "Phase 0.7853981633974483\n",
      "y = (1.0000000000000002+1.0000000000000002j)\n"
     ]
    }
   ],
   "source": [
    "# create a complex number\n",
    "x = 1 + 1j\n",
    "print(\"x =\", x)\n",
    "print(\"x.real\", x.real, \"x.imag\", x.imag)\n",
    "\n",
    "# magnitude and phase of complex number\n",
    "mag = abs(x)\n",
    "phase = angle(x)\n",
    "\n",
    "print(\"Magnitude\", mag)\n",
    "print(\"Phase\", phase)\n",
    "\n",
    "# Euler's formula\n",
    "y = mag * exp(phase * 1j)\n",
    "print(\"y =\", y)"
   ]
  },
  {
   "cell_type": "code",
   "execution_count": 6,
   "metadata": {
    "id": "Z6YWeepmT3v2"
   },
   "outputs": [
    {
     "data": {
      "image/png": "[encoded data removed]",
      "text/plain": [
       "<Figure size 1200x3600 with 3 Axes>"
      ]
     },
     "metadata": {},
     "output_type": "display_data"
    }
   ],
   "source": [
    "# magnify position change\n",
    "magnified = magnifyChange(im1, im2, magnificationFactor);\n",
    "\n",
    "plt.figure(figsize=(12,36))\n",
    "plt.subplot(131)\n",
    "imshow(im1); plt.title('im1');\n",
    "\n",
    "plt.subplot(132)\n",
    "imshow(im2); plt.title('im2');\n",
    "\n",
    "plt.subplot(133)\n",
    "imshow(magnified); plt.title('magnified');\n",
    "plt.savefig(\"problem_3a.png\", bbox_inches=\"tight\")"
   ]
  },
  {
   "cell_type": "markdown",
   "metadata": {
    "id": "2PCOffIUT3v2"
   },
   "source": [
    "## Problem 1.b"
   ]
  },
  {
   "cell_type": "code",
   "execution_count": 7,
   "metadata": {
    "id": "OLC6gSXMT3v3"
   },
   "outputs": [
    {
     "data": {
      "image/png": "[encoded data removed]",
      "text/plain": [
       "<Figure size 1200x3600 with 4 Axes>"
      ]
     },
     "metadata": {},
     "output_type": "display_data"
    }
   ],
   "source": [
    "# 9x9 images\n",
    "imSize = 9\n",
    "\n",
    "# we would like to magnify the change between im1 and im2 by 4x\n",
    "magnificationFactor = 4\n",
    "\n",
    "# horizontal movement from (1, 1) to (1, 2)\n",
    "# additional vertical movement from (9, 9) to (8, 9)\n",
    "im1 = np.zeros([imSize, imSize])\n",
    "im2 = np.zeros([imSize, imSize])\n",
    "im1[0,0] = 1\n",
    "im2[0,1] = 1\n",
    "im1[8,8] = 1\n",
    "im2[7,8] = 1\n",
    "\n",
    "\n",
    "### TODO: ENTER YOUR CODE BELOW\n",
    "# manually edit the expected matrix (currently set as zeros) by creating 1s to show the expected output\n",
    "expected = np.zeros([imSize, imSize])\n",
    "expected[6,1] = 1\n",
    "expected[7,2] = 1\n",
    "\n",
    "\n",
    "# magnify position change\n",
    "magnified = magnifyChange(im1, im2, magnificationFactor)\n",
    "\n",
    "\n",
    "plt.figure(figsize=(12,36))\n",
    "plt.subplot(141)\n",
    "imshow(im1); plt.title('im1');\n",
    "\n",
    "plt.subplot(142)\n",
    "imshow(im2); plt.title('im2');\n",
    "\n",
    "plt.subplot(143)\n",
    "imshow(expected); plt.title('expected');\n",
    "\n",
    "plt.subplot(144)\n",
    "imshow(magnified); plt.title('magnified');\n",
    "plt.savefig(\"problem_3b.png\", bbox_inches=\"tight\")"
   ]
  },
  {
   "cell_type": "markdown",
   "metadata": {
    "id": "VTP8LwLfT3v3"
   },
   "source": [
    "## Problem 1.c"
   ]
  },
  {
   "cell_type": "code",
   "execution_count": 8,
   "metadata": {
    "id": "YQs4fJZTT3v3"
   },
   "outputs": [
    {
     "data": {
      "image/png": "[encoded data removed]",
      "text/plain": [
       "<Figure size 1200x3600 with 3 Axes>"
      ]
     },
     "metadata": {},
     "output_type": "display_data"
    }
   ],
   "source": [
    "# 9x9 images\n",
    "imSize = 9\n",
    "\n",
    "# we would like to magnify the change between im1 and im2 by 4x\n",
    "magnificationFactor = 4\n",
    "\n",
    "# width of our Gaussian window\n",
    "sigma = 2\n",
    "\n",
    "# horizontal movement from (1, 1) to (1, 2)\n",
    "# additional vertical movement from (9, 9) to (8, 9)\n",
    "im1 = np.zeros([imSize, imSize])\n",
    "im2 = np.zeros([imSize, imSize])\n",
    "im1[0,0] = 1\n",
    "im2[0,1] = 1\n",
    "im1[8,8] = 1\n",
    "im2[7,8] = 1\n",
    "\n",
    "# we will magnify windows of the image and aggregate the results\n",
    "magnified = np.zeros([imSize, imSize])\n",
    "\n",
    "# meshgrid for computing Gaussian window\n",
    "X, Y = np.meshgrid(np.arange(imSize), np.arange(imSize))\n",
    "\n",
    "for y in range(0, imSize, 2*sigma):\n",
    "    for x in range(0, imSize, 2*sigma):\n",
    "        gaussianMask = np.exp(-((X - x) ** 2 + (Y - y) ** 2) / (2 * sigma ** 2))      # TODO\n",
    "        \n",
    "        windowIm1 = im1 * gaussianMask\n",
    "        windowIm2 = im2 * gaussianMask\n",
    "        windowMagnified = magnifyChange(windowIm1, windowIm2, magnificationFactor)\n",
    "        \n",
    "        magnified += windowMagnified\n",
    "\n",
    "plt.figure(figsize=(12,36))\n",
    "plt.subplot(131)\n",
    "imshow(im1); plt.title('im1');\n",
    "\n",
    "plt.subplot(132)\n",
    "imshow(im2); plt.title('im2');\n",
    "\n",
    "plt.subplot(133)\n",
    "imshow(magnified); plt.title('magnified');\n",
    "plt.savefig(\"problem_3c.png\", bbox_inches=\"tight\")"
   ]
  },
  {
   "cell_type": "markdown",
   "metadata": {
    "id": "kj-KjWXBT3v3"
   },
   "source": [
    "## Problem 1.d"
   ]
  },
  {
   "cell_type": "code",
   "execution_count": 9,
   "metadata": {
    "id": "u7ISUwmbT3v4"
   },
   "outputs": [
    {
     "name": "stdout",
     "output_type": "stream",
     "text": [
      "frames size: (60, 240, 240, 3) # (nb_frames, height, width, channel)\n"
     ]
    }
   ],
   "source": [
    "import numpy as np\n",
    "import cv2\n",
    "\n",
    "cap = cv2.VideoCapture('bill.avi')\n",
    "\n",
    "# list of video frames\n",
    "frames = []\n",
    "\n",
    "while(cap.isOpened()):\n",
    "    # read frame from the video\n",
    "    ret, frame = cap.read()\n",
    "\n",
    "    if ret is False:\n",
    "        break\n",
    "\n",
    "    frames.append(frame)\n",
    "\n",
    "cap.release()\n",
    "\n",
    "# scale frame to 0-1\n",
    "frames = np.array(frames) / 255.\n",
    "print(\"frames size:\", frames.shape, \"# (nb_frames, height, width, channel)\")\n",
    "\n",
    "# get height, width\n",
    "numFrames = frames.shape[0]\n",
    "height = frames.shape[1]\n",
    "width = frames.shape[2]"
   ]
  },
  {
   "cell_type": "markdown",
   "metadata": {
    "id": "hABCG47vT3v4"
   },
   "source": [
    "### Motion magnification\n",
    "Fill out code **here**"
   ]
  },
  {
   "cell_type": "code",
   "execution_count": 10,
   "metadata": {
    "id": "8QTRy7waT3v4"
   },
   "outputs": [
    {
     "name": "stdout",
     "output_type": "stream",
     "text": [
      "100/100\r"
     ]
    }
   ],
   "source": [
    "# 10x magnification of motion\n",
    "magnificationFactor = 10\n",
    "\n",
    "# width of Gaussian window\n",
    "sigma = 13\n",
    "\n",
    "# alpha for moving average\n",
    "alpha = 0.5\n",
    "\n",
    "# we will magnify windows of the video and aggregate the results\n",
    "magnified = np.zeros_like(frames)\n",
    "\n",
    "# meshgrid for computing Gaussian window\n",
    "X, Y = np.meshgrid(np.arange(width), np.arange(height))\n",
    "\n",
    "# iterate over windows of the frames\n",
    "xRange = list(range(0, width, 2*sigma))\n",
    "yRange = list(range(0, height, 2*sigma))\n",
    "numWindows = len(xRange) * len(yRange)\n",
    "windowIndex = 1\n",
    "\n",
    "for y in yRange:\n",
    "    for x in xRange:\n",
    "        for channelIndex in range(3): # RGB channels\n",
    "            for frameIndex in range(numFrames):\n",
    "\n",
    "                # create windowed frames\n",
    "                gaussianMask = np.exp(-((X - x) ** 2 + (Y - y) ** 2) / (2 * sigma ** 2))      # TODO\n",
    "                windowedFrames = gaussianMask * frames[frameIndex,:,:,channelIndex]\n",
    "\n",
    "                # initialize moving average of phase for current window/channel\n",
    "                if frameIndex == 0:\n",
    "                    windowAveragePhase = angle(fft2(windowedFrames))\n",
    "\n",
    "                windowDft = fft2(windowedFrames)\n",
    "\n",
    "                # compute phase shift and constrain to [-pi, pi] since\n",
    "                # angle space wraps around\n",
    "                windowPhaseShift = angle(windowDft) - windowAveragePhase\n",
    "                windowPhaseShift[windowPhaseShift > pi] = windowPhaseShift[windowPhaseShift > pi] - 2 * pi\n",
    "                windowPhaseShift[windowPhaseShift < -pi] = windowPhaseShift[windowPhaseShift < -pi] + 2 * pi\n",
    "\n",
    "                # magnify phase shift\n",
    "                windowMagnifiedPhase = angle(windowDft) + magnificationFactor * windowPhaseShift        # TODO\n",
    "\n",
    "                # go back to image space\n",
    "                windowMagnifiedDft = np.abs(windowDft) * exp(1j * windowMagnifiedPhase)     # TODO\n",
    "                windowMagnified = abs(ifft2(windowMagnifiedDft))\n",
    "\n",
    "                # update moving average\n",
    "                windowPhaseUnwrapped = windowAveragePhase + windowPhaseShift\n",
    "                windowAveragePhase = alpha * windowAveragePhase + (1 - alpha) * windowPhaseUnwrapped\n",
    "\n",
    "                # aggregate\n",
    "                magnified[frameIndex,:,:,channelIndex] = magnified[frameIndex,:,:,channelIndex] + windowMagnified\n",
    "\n",
    "        # print progress\n",
    "        print('{}/{}'.format(windowIndex, numWindows), end='\\r')\n",
    "        windowIndex += 1"
   ]
  },
  {
   "cell_type": "code",
   "execution_count": 11,
   "metadata": {
    "id": "zpBHydgKT3v6"
   },
   "outputs": [],
   "source": [
    "outputs = magnified / np.max(magnified)\n",
    "for channelIndex in range(3):\n",
    "    originalFrame = frames[0,:,:,channelIndex]\n",
    "    magnifiedFrame = outputs[0,:,:,channelIndex]\n",
    "    scale = np.std(originalFrame[:]) / np.std(magnifiedFrame[:])\n",
    "    originalMean = np.mean(originalFrame[:])\n",
    "    magnifiedMean = np.mean(magnifiedFrame[:])\n",
    "    outputs[:,:,:,channelIndex] = magnifiedMean + scale * (outputs[:,:,:,channelIndex] - magnifiedMean)\n",
    "\n",
    "outputs = np.clip(outputs, 0, 1)"
   ]
  },
  {
   "cell_type": "code",
   "execution_count": 12,
   "metadata": {
    "id": "ud60cXJqT3v7"
   },
   "outputs": [],
   "source": [
    "# create output video\n",
    "fourcc = cv2.VideoWriter_fourcc('M','J','P','G')\n",
    "# fourcc = cv2.VideoWriter_fourcc(*'XVID')\n",
    "out = cv2.VideoWriter('bill_magnified.avi',fourcc, 30.0, (height, width))\n",
    "\n",
    "for i in range(frames.shape[0]):\n",
    "    # scale the frame back to 0-255\n",
    "    frame = (np.clip(outputs[i], 0, 1) * 255).astype(np.uint8)\n",
    "\n",
    "    # write frame to output video\n",
    "    out.write(frame)\n",
    "\n",
    "out.release()"
   ]
  },
  {
   "cell_type": "code",
   "execution_count": 13,
   "metadata": {
    "id": "kpaXMWVOT3v7"
   },
   "outputs": [
    {
     "name": "stdout",
     "output_type": "stream",
     "text": [
      "Only for google colab\n"
     ]
    }
   ],
   "source": [
    "# Only for colab downloading videos\n",
    "try:\n",
    "    from google.colab import files\n",
    "    files.download('bill_magnified.avi')\n",
    "except:\n",
    "    print(\"Only for google colab\")"
   ]
  },
  {
   "cell_type": "markdown",
   "metadata": {
    "id": "KavaF6GgjHuB"
   },
   "source": [
    "# Problem 2: Eulerian Motion Magnification "
   ]
  },
  {
   "cell_type": "markdown",
   "metadata": {
    "id": "4o2rAMM4VKDO"
   },
   "source": [
    "Let's start by reading all the frames of the video."
   ]
  },
  {
   "cell_type": "code",
   "execution_count": 1,
   "metadata": {
    "id": "_ZMIQEZpjMp3"
   },
   "outputs": [
    {
     "name": "stderr",
     "output_type": "stream",
     "text": [
      "  % Total    % Received % Xferd  Average Speed   Time    Time     Time  Current\n",
      "                                 Dload  Upload   Total   Spent    Left  Speed\n",
      "\n",
      "  0     0    0     0    0     0      0      0 --:--:-- --:--:-- --:--:--     0\n",
      "  0     0    0     0    0     0      0      0 --:--:--  0:00:01 --:--:--     0\n",
      " 11 1796k   11  207k    0     0   100k      0  0:00:17  0:00:02  0:00:15  101k\n",
      "100 1796k  100 1796k    0     0   662k      0  0:00:02  0:00:02 --:--:--  663k\n"
     ]
    },
    {
     "name": "stdout",
     "output_type": "stream",
     "text": [
      "frames size: (301, 240, 240, 3) # (nb_frames, height, width, channel)\n"
     ]
    }
   ],
   "source": [
    "import numpy as np\n",
    "import cv2\n",
    "import scipy.signal as signal\n",
    "import scipy.fftpack as fftpack\n",
    "import matplotlib.pyplot as plt\n",
    "\n",
    "# ! curl http://people.csail.mit.edu/mrub/evm/video/baby.mp4 > baby.mp4\n",
    "! curl https://people.csail.mit.edu/mrub/evm/video/baby.mp4 > baby.mp4\n",
    "\n",
    "cap = cv2.VideoCapture('baby.mp4')\n",
    "fps = int(cap.get(cv2.CAP_PROP_FPS))\n",
    "\n",
    "# list of video frames\n",
    "frames = []\n",
    "\n",
    "while(cap.isOpened()):\n",
    "    # read frame from the video\n",
    "    ret, frame = cap.read()\n",
    "\n",
    "    if ret is False:\n",
    "        break\n",
    "    frame = cv2.resize(frame, (424, 240))\n",
    "    frame = frame[:, 80:80+240]\n",
    "    frames.append(frame)\n",
    "\n",
    "cap.release()\n",
    "\n",
    "# scale frame to 0-1\n",
    "frames = np.array(frames) / 255.\n",
    "print(\"frames size:\", frames.shape, \"# (nb_frames, height, width, channel)\")\n",
    "\n",
    "# get height, width\n",
    "numFrames = frames.shape[0]\n",
    "height = frames.shape[1]\n",
    "width = frames.shape[2]\n",
    "\n",
    "# Helper function for displaying the pyramid\n",
    "def display_pyramid(pyramid):\n",
    "  N = len(pyramid)\n",
    "  for lvl in range(len(pyramid)):\n",
    "    plt.subplot(1, N, lvl+1)\n",
    "    plt.imshow(pyramid[lvl][0, ..., ::-1])\n",
    "    \n"
   ]
  },
  {
   "cell_type": "markdown",
   "metadata": {
    "id": "OKLJq6EUVVO1"
   },
   "source": [
    "# Problem 2a: Gaussian pyramid\n",
    "We will first write a function to create a gaussian pyramid of the input frames. The function takes in an array of N frames (N, H, W, 3) and outputs a list of frames (num_levels, N, H, W, 3) such that each entry corresponds to the gaussian pyramid starting from the finest to the coarest level.\n",
    "\n"
   ]
  },
  {
   "cell_type": "code",
   "execution_count": 2,
   "metadata": {
    "id": "e2n7QwvsjOIu"
   },
   "outputs": [],
   "source": [
    "def create_gaussian_pyramid(vid, num_levels=4):\n",
    "\n",
    "  ### TODO: ENTER YOUR CODE BELOW\n",
    "  ### return a list with the gaussian pyramid of the video.\n",
    "  ### consider using the cv2.pyrDown function to create each level of the pyramid.\n",
    "\n",
    "    # Initialize list to hold pyramid levels\n",
    "    pyramid = []\n",
    "\n",
    "    # For each level, apply pyrDown to each frame\n",
    "    for level in range(num_levels):\n",
    "        level_frames = []\n",
    "        for frame in vid:\n",
    "            if level == 0:\n",
    "                level_frames.append(frame)\n",
    "            else:\n",
    "                frame = cv2.pyrDown(frame)\n",
    "                level_frames.append(frame)\n",
    "        pyramid.append(np.array(level_frames))\n",
    "\n",
    "    return pyramid\n",
    "\n",
    "  \n",
    "    # return [] # returning empty list for now. Change this!"
   ]
  },
  {
   "cell_type": "code",
   "execution_count": 5,
   "metadata": {
    "id": "Ie6ISraikr83"
   },
   "outputs": [],
   "source": [
    "gaussian_pyramid = create_gaussian_pyramid(frames)"
   ]
  },
  {
   "cell_type": "code",
   "execution_count": 17,
   "metadata": {
    "id": "OnV6AqTRm9ml"
   },
   "outputs": [
    {
     "data": {
      "image/png": "[encoded data removed]",
      "text/plain": [
       "<Figure size 640x480 with 4 Axes>"
      ]
     },
     "metadata": {},
     "output_type": "display_data"
    }
   ],
   "source": [
    "display_pyramid(gaussian_pyramid)\n",
    "plt.savefig(\"gaussian_pyramid.png\", bbox_inches=\"tight\")"
   ]
  },
  {
   "cell_type": "markdown",
   "metadata": {
    "id": "C7H1kVifjYLV"
   },
   "source": [
    "# Problem 2b: Laplacian pyramid\n",
    "Now let's make the Laplacian pyramid using the gaussian pyramids you produced in 1a. Check that the returned frames take the form of (num_levels - 1, N, H, W, 3) [*sanity check: why?*]\n"
   ]
  },
  {
   "cell_type": "code",
   "execution_count": 3,
   "metadata": {
    "id": "n3PqHqmsk0fa"
   },
   "outputs": [],
   "source": [
    "def create_laplacian_pyramid(gaussian_pyramid):\n",
    "  ### TODO: ENTER YOUR CODE BELOW\n",
    "  ### use the gaussian pyramid to create the laplacian pyramid for the video.\n",
    "  ### You might find cv2.pyrUp function useful.\n",
    "\n",
    "  num_levels = len(gaussian_pyramid)\n",
    "  laplacian_pyramid = []\n",
    "  \n",
    "  for i in range(num_levels - 1):\n",
    "    gauss_current = gaussian_pyramid[i]\n",
    "    gauss_next = gaussian_pyramid[i + 1]\n",
    "    gauss_next_up = np.array([cv2.resize(cv2.pyrUp(frame), (gauss_current.shape[2], gauss_current.shape[1])) for frame in gauss_next])\n",
    "    laplacian = gauss_current - gauss_next_up\n",
    "    laplacian_pyramid.append(laplacian)\n",
    "  \n",
    "  # The last level is the same as the last level of the Gaussian pyramid\n",
    "  laplacian_pyramid.append(gaussian_pyramid[-1])\n",
    "  \n",
    "  return laplacian_pyramid\n",
    "  # return [] # returning empty list for now. Change this!"
   ]
  },
  {
   "cell_type": "code",
   "execution_count": 6,
   "metadata": {
    "id": "HAXHU1OmT9I0"
   },
   "outputs": [],
   "source": [
    "laplacian_pyramid = create_laplacian_pyramid(gaussian_pyramid)"
   ]
  },
  {
   "cell_type": "code",
   "execution_count": 20,
   "metadata": {
    "id": "j9XcjPUmkswA"
   },
   "outputs": [
    {
     "name": "stderr",
     "output_type": "stream",
     "text": [
      "Clipping input data to the valid range for imshow with RGB data ([0..1] for floats or [0..255] for integers). Got range [-0.27976217830882355..0.3314740349264706].\n",
      "Clipping input data to the valid range for imshow with RGB data ([0..1] for floats or [0..255] for integers). Got range [-0.13379157571231617..0.1687233120787377].\n",
      "Clipping input data to the valid range for imshow with RGB data ([0..1] for floats or [0..255] for integers). Got range [-0.13379157571231617..0.1687233120787377].\n"
     ]
    },
    {
     "data": {
      "image/png": "[encoded data removed]",
      "text/plain": [
       "<Figure size 640x480 with 4 Axes>"
      ]
     },
     "metadata": {},
     "output_type": "display_data"
    }
   ],
   "source": [
    "display_pyramid(laplacian_pyramid)\n",
    "plt.savefig(\"laplacian_pyramid.png\", bbox_inches=\"tight\")"
   ]
  },
  {
   "cell_type": "markdown",
   "metadata": {
    "id": "T-LEl3GheDXT"
   },
   "source": [
    "# Problem 2c: Butter bandpass filter temporally"
   ]
  },
  {
   "cell_type": "code",
   "execution_count": 7,
   "metadata": {
    "id": "_CA92pT1k4Uh"
   },
   "outputs": [],
   "source": [
    "def butter_bandpass_filter(laplace_video, low_freq, high_freq, fs, filter_order=5):\n",
    "    omega = 0.5 * fs\n",
    "    low = low_freq / omega\n",
    "    high = high_freq / omega\n",
    "\n",
    "    # create a \"bandpass\" signal filter using the signal.butter function\n",
    "    b, a = signal.butter(filter_order, [low, high], btype='band')       # TODO\n",
    "\n",
    "\n",
    "    # filter the laplcian of the video using the signal.lfilter\n",
    "    y = signal.lfilter(b, a, laplace_video, axis=0)     # TODO\n",
    "\n",
    "    return y\n",
    "\n",
    "amplification = 20\n",
    "low = 0.4\n",
    "high = 3.\n",
    "\n",
    "bandpass_filtered = []\n",
    "for i in range(len(laplacian_pyramid)):\n",
    "    # Applying the butter_bandpass_filter to each of\n",
    "    # the levels of the laplacian pyramid\n",
    "\n",
    "    filter = butter_bandpass_filter(laplacian_pyramid[i], low, high, fps)\n",
    "    filter *= amplification\n",
    "    bandpass_filtered.append(filter)"
   ]
  },
  {
   "cell_type": "markdown",
   "metadata": {
    "id": "PQJj8lAmlllR"
   },
   "source": [
    "# Problem 2d: Combining the amplified filtered signal to get the magnified video"
   ]
  },
  {
   "cell_type": "code",
   "execution_count": 11,
   "metadata": {
    "id": "-NUOKtD6lWhP"
   },
   "outputs": [
    {
     "name": "stdout",
     "output_type": "stream",
     "text": [
      "Combining level 2\n"
     ]
    },
    {
     "ename": "error",
     "evalue": "OpenCV(4.10.0) D:\\a\\opencv-python\\opencv-python\\opencv\\modules\\core\\src\\matrix.cpp:246: error: (-215:Assertion failed) s >= 0 in function 'cv::setSize'\n",
     "output_type": "error",
     "traceback": [
      "\u001b[1;31m---------------------------------------------------------------------------\u001b[0m",
      "\u001b[1;31merror\u001b[0m                                     Traceback (most recent call last)",
      "Cell \u001b[1;32mIn[11], line 44\u001b[0m\n\u001b[0;32m     32\u001b[0m         \u001b[38;5;66;03m# # Resize to exactly match the next level's size\u001b[39;00m\n\u001b[0;32m     33\u001b[0m         \u001b[38;5;66;03m# next_level_size = (laplacian_pyramid[i].shape[2], laplacian_pyramid[i].shape[1])\u001b[39;00m\n\u001b[0;32m     34\u001b[0m         \u001b[38;5;66;03m# if combined.shape[1] != next_level_size[1] or combined.shape[2] != next_level_size[0]:\u001b[39;00m\n\u001b[1;32m   (...)\u001b[0m\n\u001b[0;32m     38\u001b[0m         \u001b[38;5;66;03m# # Add the Laplacian level to the combined image\u001b[39;00m\n\u001b[0;32m     39\u001b[0m         \u001b[38;5;66;03m# combined += laplacian_pyramid[i]\u001b[39;00m\n\u001b[0;32m     41\u001b[0m     \u001b[38;5;28;01mreturn\u001b[39;00m combined\n\u001b[1;32m---> 44\u001b[0m euler_magnified_video \u001b[38;5;241m=\u001b[39m \u001b[43mcombine_pyramid_levels\u001b[49m\u001b[43m(\u001b[49m\u001b[43mbandpass_filtered\u001b[49m\u001b[43m)\u001b[49m\n",
      "Cell \u001b[1;32mIn[11], line 20\u001b[0m, in \u001b[0;36mcombine_pyramid_levels\u001b[1;34m(laplacian_pyramid)\u001b[0m\n\u001b[0;32m     17\u001b[0m \u001b[38;5;28mprint\u001b[39m(\u001b[38;5;124mf\u001b[39m\u001b[38;5;124m\"\u001b[39m\u001b[38;5;124mCombining level \u001b[39m\u001b[38;5;132;01m{\u001b[39;00mi\u001b[38;5;132;01m}\u001b[39;00m\u001b[38;5;124m\"\u001b[39m)\n\u001b[0;32m     19\u001b[0m \u001b[38;5;66;03m# Upsample the combined image\u001b[39;00m\n\u001b[1;32m---> 20\u001b[0m combined \u001b[38;5;241m=\u001b[39m \u001b[43mcv2\u001b[49m\u001b[38;5;241;43m.\u001b[39;49m\u001b[43mpyrUp\u001b[49m\u001b[43m(\u001b[49m\u001b[43mcombined\u001b[49m\u001b[43m)\u001b[49m\n\u001b[0;32m     22\u001b[0m \u001b[38;5;66;03m# Print shape for debugging\u001b[39;00m\n\u001b[0;32m     23\u001b[0m \u001b[38;5;28mprint\u001b[39m(\u001b[38;5;124mf\u001b[39m\u001b[38;5;124m\"\u001b[39m\u001b[38;5;124mLevel \u001b[39m\u001b[38;5;132;01m{\u001b[39;00mi\u001b[38;5;132;01m}\u001b[39;00m\u001b[38;5;124m: combined shape = \u001b[39m\u001b[38;5;132;01m{\u001b[39;00mcombined\u001b[38;5;241m.\u001b[39mshape\u001b[38;5;132;01m}\u001b[39;00m\u001b[38;5;124m\"\u001b[39m)\n",
      "\u001b[1;31merror\u001b[0m: OpenCV(4.10.0) D:\\a\\opencv-python\\opencv-python\\opencv\\modules\\core\\src\\matrix.cpp:246: error: (-215:Assertion failed) s >= 0 in function 'cv::setSize'\n"
     ]
    }
   ],
   "source": [
    "### TODO: ENTER YOUR CODE BELOW\n",
    "### Combine all the bandpassed filtered signals to one matrix which is the same\n",
    "### dimensions as the input video.\n",
    "### Hint: start from the lowest resolution of the amplified filtered signal,\n",
    "### upsample that using cv2.pyrUp and add it to the amplified filtered signal\n",
    "### at the next higher resolution.\n",
    "\n",
    "### The output video, 'euler_magnified_video', will be the\n",
    "### input video frames + combined magnified signal.\n",
    "\n",
    "def combine_pyramid_levels(laplacian_pyramid):\n",
    "    # Start from the lowest resolution (last level of the Laplacian pyramid)\n",
    "    combined = laplacian_pyramid[-1]\n",
    "\n",
    "    # Combine levels from the lowest to the highest resolution\n",
    "    for i in reversed(range(len(laplacian_pyramid) - 1)):\n",
    "        print(f\"Combining level {i}\")\n",
    "\n",
    "        # Upsample the combined image\n",
    "        combined = cv2.pyrUp(combined)\n",
    "\n",
    "        # Print shape for debugging\n",
    "        print(f\"Level {i}: combined shape = {combined.shape}\")\n",
    "\n",
    "        # Resize Laplacian level to match combined image size\n",
    "        resized_laplacian = cv2.resize(laplacian_pyramid[i], (combined.shape[1], combined.shape[0]), interpolation=cv2.INTER_LINEAR)\n",
    "\n",
    "        # Add the resized Laplacian level to the combined image\n",
    "        combined += resized_laplacian\n",
    "\n",
    "    return combined\n",
    "\n",
    "\n",
    "euler_magnified_video = combine_pyramid_levels(bandpass_filtered)\n"
   ]
  },
  {
   "cell_type": "code",
   "execution_count": 27,
   "metadata": {
    "id": "umO73vIvfH2x"
   },
   "outputs": [
    {
     "ename": "NameError",
     "evalue": "name 'euler_magnified_video' is not defined",
     "output_type": "error",
     "traceback": [
      "\u001b[1;31m---------------------------------------------------------------------------\u001b[0m",
      "\u001b[1;31mNameError\u001b[0m                                 Traceback (most recent call last)",
      "Cell \u001b[1;32mIn[27], line 13\u001b[0m\n\u001b[0;32m      9\u001b[0m out \u001b[38;5;241m=\u001b[39m cv2\u001b[38;5;241m.\u001b[39mVideoWriter(\u001b[38;5;124m'\u001b[39m\u001b[38;5;124mbaby_euler_magnification.avi\u001b[39m\u001b[38;5;124m'\u001b[39m, fourcc, \u001b[38;5;241m30.0\u001b[39m, (height, width))\n\u001b[0;32m     11\u001b[0m \u001b[38;5;28;01mfor\u001b[39;00m i \u001b[38;5;129;01min\u001b[39;00m \u001b[38;5;28mrange\u001b[39m(frames\u001b[38;5;241m.\u001b[39mshape[\u001b[38;5;241m0\u001b[39m]):\n\u001b[0;32m     12\u001b[0m     \u001b[38;5;66;03m# scale the frame back to 0-255\u001b[39;00m\n\u001b[1;32m---> 13\u001b[0m     frame \u001b[38;5;241m=\u001b[39m (np\u001b[38;5;241m.\u001b[39mclip(\u001b[43meuler_magnified_video\u001b[49m[i], \u001b[38;5;241m0\u001b[39m, \u001b[38;5;241m1\u001b[39m) \u001b[38;5;241m*\u001b[39m \u001b[38;5;241m255\u001b[39m)\u001b[38;5;241m.\u001b[39mastype(np\u001b[38;5;241m.\u001b[39muint8)\n\u001b[0;32m     15\u001b[0m     \u001b[38;5;66;03m# write frame to output video\u001b[39;00m\n\u001b[0;32m     16\u001b[0m     out\u001b[38;5;241m.\u001b[39mwrite(frame)\n",
      "\u001b[1;31mNameError\u001b[0m: name 'euler_magnified_video' is not defined"
     ]
    }
   ],
   "source": [
    "### Note:\n",
    "### The output video will likely flicker and show severe magnification artifacts\n",
    "### for about 4 seconds before showing a noisy magnified video.\n",
    "### The initial artifacts should be ignored.\n",
    "\n",
    "# create output video\n",
    "fourcc = cv2.VideoWriter_fourcc('M','J','P','G')\n",
    "# fourcc = cv2.VideoWriter_fourcc(*'XVID')\n",
    "out = cv2.VideoWriter('baby_euler_magnification.avi', fourcc, 30.0, (height, width))\n",
    "\n",
    "for i in range(frames.shape[0]):\n",
    "    # scale the frame back to 0-255\n",
    "    frame = (np.clip(euler_magnified_video[i], 0, 1) * 255).astype(np.uint8)\n",
    "\n",
    "    # write frame to output video\n",
    "    out.write(frame)\n",
    "\n",
    "out.release()"
   ]
  }
 ],
 "metadata": {
  "colab": {
   "provenance": []
  },
  "kernelspec": {
   "display_name": "Python 3 (ipykernel)",
   "language": "python",
   "name": "python3"
  },
  "language_info": {
   "codemirror_mode": {
    "name": "ipython",
    "version": 3
   },
   "file_extension": ".py",
   "mimetype": "text/x-python",
   "name": "python",
   "nbconvert_exporter": "python",
   "pygments_lexer": "ipython3",
   "version": "3.12.2"
  }
 },
 "nbformat": 4,
 "nbformat_minor": 4
}
